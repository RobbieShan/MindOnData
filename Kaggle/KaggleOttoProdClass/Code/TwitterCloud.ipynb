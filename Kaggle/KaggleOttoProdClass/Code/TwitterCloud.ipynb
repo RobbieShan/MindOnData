{
 "metadata": {
  "name": "",
  "signature": "sha256:fd3e8e4539c042f28bc578c855b38436600e1c503cd6212bd81ab74d38ee7b60"
 },
 "nbformat": 3,
 "nbformat_minor": 0,
 "worksheets": [
  {
   "cells": [
    {
     "cell_type": "code",
     "collapsed": false,
     "input": [
      "import textmining\n",
      "import json\n",
      "\n",
      "tweets = []\n",
      "\n",
      "path = 'C:/rhcygwin64/home/Ravi/'\n",
      "\n",
      "for line in open(path + 'uhgtweets.txt'):\n",
      "  try: \n",
      "    tweets.append(json.loads(line))\n",
      "  except:\n",
      "    pass"
     ],
     "language": "python",
     "metadata": {},
     "outputs": [],
     "prompt_number": 68
    },
    {
     "cell_type": "code",
     "collapsed": false,
     "input": [
      "#print(tweets[0].keys())\n",
      "#print(len(tweets[0]['statuses']))\n",
      "#print(tweets[1].keys())\n",
      "#print(len(tweets[1]['statuses']))\n",
      "#print(len(tweets))"
     ],
     "language": "python",
     "metadata": {},
     "outputs": [],
     "prompt_number": 69
    },
    {
     "cell_type": "code",
     "collapsed": false,
     "input": [
      "print(type(textmining.stopwords))\n",
      "textmining.stopwords.add(i for i in ['http','as', 'is','of','in','a','i','the'])\n"
     ],
     "language": "python",
     "metadata": {},
     "outputs": [
      {
       "output_type": "stream",
       "stream": "stdout",
       "text": [
        "<type 'set'>\n"
       ]
      }
     ],
     "prompt_number": 70
    },
    {
     "cell_type": "code",
     "collapsed": false,
     "input": [
      "tdm = textmining.TermDocumentMatrix()\n",
      "f = open(path +'ttext.txt', 'w+')\n",
      "\n",
      "for n in range(0,len(tweets)):\n",
      "    for i in range(0,len(tweets[n]['statuses'])):\n",
      "        temptext = tweets[0]['statuses'][i]['text']\n",
      "        print(temptext.encode('utf8'))\n",
      "        f.write(str(temptext.encode('utf8')))\n",
      "        #tdm.add_doc(str(temptext.encode('utf8')))\n",
      "f.close()"
     ],
     "language": "python",
     "metadata": {},
     "outputs": [
      {
       "output_type": "stream",
       "stream": "stdout",
       "text": [
        "Insurer's policy change could leave patients on the hook for bills: http://t.co/H6zA4K4l3s via @STLtoday #UnitedHealthcare\n",
        "For greater success in your #UHG #jobsearch, apply only to positions that you're 100% qualified for. Learn more at: http://t.co/tzZyLLJhNI\n",
        "Glad to see #UnitedHealthcare's great customer service got a mention in a recent Philly Business Journal article http://t.co/RZuiakugLz\n",
        "Receive #UHG career and company news via email to explore all the possibilities of your life's best work.\u2120 http://t.co/Tc8Sglu3CA\n",
        "\"It's my fault. I came in too hot.\" #UnitedHealthcare #DirtyDancing http://t.co/nYFGnGJIf3\n",
        "#UHG is a Fortune 14 company operating in 33 countries across the planet. Learn about our global footprint: http://t.co/7U7t0yLiQu\n",
        "#UHG is a Fortune 14 company operating in 33 countries across the planet. Learn about our global footprint: http://t.co/4tAVN5bKjo\n",
        "#UnitedHealthCare 's new ad campaign takes a lighthearted view on the need for a simpler #medical system http://t.co/ssegg2EmZ8\n",
        "Watching @EuropeanTour @HASSAN2TROPHY I believe I have seen 2 golfers hit a green in regulation, which equals # of spectators #uhg\n",
        "Props to #UnitedHealthcare. I LMAO every time I watch their \"Dirty Dancing\" commercial. #funny\n",
        "Kick off for #Youngstown Minority Health Month at Arlington Hts Rec Center, thx #UnitedHealthcare! http://t.co/nGdBnFAdQN\n",
        "Our #softwareengineering division is growing by leaps &amp; bounds, but watch how Stacy rides to victory at #UHG: http://t.co/tdqK9cXYTK\n",
        "#UNITEDHEALTH GROUP INC. : Q1 2015 Earnings Call http://t.co/GdqTbEEJMt $UNH\n",
        "I wonder what it is like to go to one of @Emeraldlightjay's parties! Oh what a life like that could do to a women like me. #uhg\n",
        "RT @majorpayne44: lmao! That #UnitedHealthCare commercial with the couple reenacting #DirtyDancing is hilarious. \"I came in too hot.\"\n",
        "Insurer's policy change could leave patients on the hook for bills: http://t.co/H6zA4K4l3s via @STLtoday #UnitedHealthcare\n",
        "For greater success in your #UHG #jobsearch, apply only to positions that you're 100% qualified for. Learn more at: http://t.co/tzZyLLJhNI\n",
        "Glad to see #UnitedHealthcare's great customer service got a mention in a recent Philly Business Journal article http://t.co/RZuiakugLz\n",
        "Receive #UHG career and company news via email to explore all the possibilities of your life's best work.\u2120 http://t.co/Tc8Sglu3CA\n",
        "\"It's my fault. I came in too hot.\" #UnitedHealthcare #DirtyDancing http://t.co/nYFGnGJIf3\n",
        "#UHG is a Fortune 14 company operating in 33 countries across the planet. Learn about our global footprint: http://t.co/7U7t0yLiQu\n",
        "#UHG is a Fortune 14 company operating in 33 countries across the planet. Learn about our global footprint: http://t.co/4tAVN5bKjo\n",
        "#UnitedHealthCare 's new ad campaign takes a lighthearted view on the need for a simpler #medical system http://t.co/ssegg2EmZ8\n",
        "Watching @EuropeanTour @HASSAN2TROPHY I believe I have seen 2 golfers hit a green in regulation, which equals # of spectators #uhg\n",
        "Props to #UnitedHealthcare. I LMAO every time I watch their \"Dirty Dancing\" commercial. #funny\n",
        "Kick off for #Youngstown Minority Health Month at Arlington Hts Rec Center, thx #UnitedHealthcare! http://t.co/nGdBnFAdQN\n",
        "Our #softwareengineering division is growing by leaps &amp; bounds, but watch how Stacy rides to victory at #UHG: http://t.co/tdqK9cXYTK\n",
        "#UNITEDHEALTH GROUP INC. : Q1 2015 Earnings Call http://t.co/GdqTbEEJMt $UNH\n",
        "I wonder what it is like to go to one of @Emeraldlightjay's parties! Oh what a life like that could do to a women like me. #uhg\n",
        "RT @majorpayne44: lmao! That #UnitedHealthCare commercial with the couple reenacting #DirtyDancing is hilarious. \"I came in too hot.\"\n"
       ]
      }
     ],
     "prompt_number": 71
    },
    {
     "cell_type": "code",
     "collapsed": false,
     "input": [
      "#tdm.add_doc('bills bills bills bills bills bills bills')\n",
      "#tdm.add_doc('customer service customer service customer service customer service')\n",
      "#tdm.add_doc('rep rep rep rep rep rep rep call call call call call call call call')\n",
      "\n",
      "f = open(path +'ttext.txt', 'r')\n",
      "tdm.add_doc(f.read())\n",
      "            \n",
      "for row in tdm.rows(cutoff=4):\n",
      "    print(row)\n",
      "    \n",
      "tdm.write_csv(path+'wtweet.csv')\n",
      "f.close()"
     ],
     "language": "python",
     "metadata": {},
     "outputs": [
      {
       "output_type": "stream",
       "stream": "stdout",
       "text": [
        "['all', 'global', 'month', 'go', 'impact', 'group', 'unitedhealthcare', 'to', 'only', 'policy', 'tc', 'unitedhealth', 'do', 'hit', 'greater', 'watching', 'couple', 'denied', 'watch', 'cxytk', 'mention', 'qualified', 'every', 'got', 'amp', 'you', 'fortune', 'like', 'success', 'countries', 'h', 'l', 'email', 'leave', 'network', 'victory', 'positions', 'bills', 'uhgprops', 'emz', 'softwareengineering', 'rec', 'za', 'see', 'hts', 'our', 'best', 'wonder', 'possibilities', 'what', 'tdqk', 'stltoday', 'for', 'tavn', 're', 'sglu', 'health', 'hilarious', 'new', 'nurse', 'across', 't', 'ssegg', 'business', 'commercial', 'journal', 'of', 'bkjo', 'equals', 'explore', 'nyfgngjif', 'operating', 'news', 'article', 'by', 'change', 'simpler', 'trophy', 'on', 'about', 'empathy', 'division', 'oh', 'career', 'fault', 'majorpayne', 'http', 'uhgrt', 's', 'view', 'via', 'co', 'campaign', 'ca', 'one', 'hook', 'ngdbnfadqnour', 'parties', 'apply', 'your', 'takes', 'service', 'funnykick', 'reenacting', 'arlington', 'emeraldlightjay', 'system', 'their', 'regulation', 'call', 'too', 'bill', 'more', 'a', 'life', 'that', 'company', 'great', 'but', 'believe', 'with', 'europeantour', 'women', 'customer', 'lmao', 'work', 'bounds', 'planet', 'youngstown', 'patients', 'dirty', 'learn', 'growing', 'k', 'my', 'could', 'lighthearted', 'and', 'ad', 'uhg', 'is', 'it', 'at', 'have', 'in', 'need', 'seen', 'philly', 'inc', 'jobsearch', 'dancing', 'insurer', 'unitedhealthcarefor', 'how', 'hot', 'earnings', 'which', 'u', 'rzuiakuglzreceive', 'rides', 'yliqu', 'spectators', 'minority', 'me', 'stacy', 'leaps', 'footprint', 'unhi', 'recent', 'tzzylljhniglad', 'golfers', 'off', 'center', 'thx', 'i', 'medical', 'q', 'inform', 'green', 'time', 'hassan', 'gdqtbeejmt', 'the', 'dirtydancing', 'came']\n",
        "[2, 4, 2, 2, 0, 2, 12, 16, 2, 2, 2, 2, 2, 2, 2, 2, 2, 0, 4, 2, 2, 2, 2, 2, 2, 2, 4, 6, 2, 4, 2, 2, 2, 2, 0, 2, 2, 2, 2, 2, 2, 2, 2, 2, 2, 4, 2, 2, 2, 4, 2, 2, 8, 2, 2, 2, 2, 2, 2, 0, 4, 24, 2, 2, 4, 2, 6, 2, 2, 2, 2, 4, 2, 2, 2, 2, 2, 2, 4, 4, 0, 2, 2, 2, 2, 2, 22, 2, 14, 2, 4, 22, 2, 2, 2, 2, 2, 2, 2, 4, 2, 2, 2, 2, 2, 2, 2, 2, 2, 2, 4, 0, 2, 18, 4, 6, 6, 2, 2, 2, 2, 2, 2, 2, 4, 2, 2, 4, 2, 2, 2, 6, 2, 2, 2, 4, 2, 2, 2, 10, 10, 4, 6, 2, 14, 2, 2, 2, 2, 2, 2, 2, 2, 2, 4, 2, 2, 2, 2, 2, 2, 2, 2, 2, 2, 2, 4, 2, 2, 2, 2, 2, 2, 2, 12, 2, 2, 0, 2, 2, 2, 2, 12, 4, 4]\n",
        "[2, 4, 2, 2, 5, 2, 12, 16, 2, 2, 2, 2, 2, 2, 2, 2, 2, 4, 4, 2, 2, 2, 2, 2, 2, 2, 4, 6, 2, 4, 2, 2, 2, 2, 13, 2, 2, 8, 2, 2, 2, 2, 2, 2, 2, 4, 2, 2, 2, 4, 2, 2, 8, 2, 2, 2, 8, 2, 2, 5, 4, 24, 2, 2, 4, 2, 6, 2, 2, 2, 2, 4, 2, 2, 2, 2, 2, 2, 4, 4, 5, 2, 2, 2, 2, 2, 22, 2, 14, 2, 4, 22, 2, 2, 2, 2, 2, 2, 2, 4, 2, 7, 2, 2, 2, 2, 2, 2, 2, 7, 4, 5, 2, 18, 4, 6, 6, 2, 2, 2, 2, 2, 2, 2, 4, 2, 2, 4, 2, 2, 2, 6, 2, 2, 2, 4, 2, 2, 2, 10, 10, 4, 6, 2, 14, 2, 2, 2, 2, 2, 2, 2, 2, 2, 4, 2, 2, 2, 2, 2, 2, 2, 2, 2, 2, 2, 4, 2, 2, 2, 2, 2, 2, 2, 12, 2, 2, 6, 2, 2, 2, 2, 12, 4, 4]\n",
        "[2, 4, 2, 2, 5, 2, 12, 16, 2, 2, 2, 2, 2, 2, 2, 2, 2, 4, 4, 2, 2, 2, 2, 2, 2, 2, 4, 6, 2, 4, 2, 2, 2, 2, 13, 2, 2, 8, 2, 2, 2, 2, 2, 2, 2, 4, 2, 2, 2, 4, 2, 2, 8, 2, 2, 2, 8, 2, 2, 5, 4, 24, 2, 2, 4, 2, 6, 2, 2, 2, 2, 4, 2, 2, 2, 2, 2, 2, 4, 4, 5, 2, 2, 2, 2, 2, 22, 2, 14, 2, 4, 22, 2, 2, 2, 2, 2, 2, 2, 4, 2, 7, 2, 2, 2, 2, 2, 2, 2, 7, 4, 5, 2, 18, 4, 6, 6, 2, 2, 2, 2, 2, 2, 2, 4, 2, 2, 4, 2, 2, 2, 6, 2, 2, 2, 4, 2, 2, 2, 10, 10, 4, 6, 2, 14, 2, 2, 2, 2, 2, 2, 2, 2, 2, 4, 2, 2, 2, 2, 2, 2, 2, 2, 2, 2, 2, 4, 2, 2, 2, 2, 2, 2, 2, 12, 2, 2, 6, 2, 2, 2, 2, 12, 4, 4]\n",
        "[2, 4, 2, 2, 5, 2, 12, 16, 2, 2, 2, 2, 2, 2, 2, 2, 2, 4, 4, 2, 2, 2, 2, 2, 2, 2, 4, 6, 2, 4, 2, 2, 2, 2, 13, 2, 2, 8, 2, 2, 2, 2, 2, 2, 2, 4, 2, 2, 2, 4, 2, 2, 8, 2, 2, 2, 8, 2, 2, 5, 4, 24, 2, 2, 4, 2, 6, 2, 2, 2, 2, 4, 2, 2, 2, 2, 2, 2, 4, 4, 5, 2, 2, 2, 2, 2, 22, 2, 14, 2, 4, 22, 2, 2, 2, 2, 2, 2, 2, 4, 2, 7, 2, 2, 2, 2, 2, 2, 2, 7, 4, 5, 2, 18, 4, 6, 6, 2, 2, 2, 2, 2, 2, 2, 4, 2, 2, 4, 2, 2, 2, 6, 2, 2, 2, 4, 2, 2, 2, 10, 10, 4, 6, 2, 14, 2, 2, 2, 2, 2, 2, 2, 2, 2, 4, 2, 2, 2, 2, 2, 2, 2, 2, 2, 2, 2, 4, 2, 2, 2, 2, 2, 2, 2, 12, 2, 2, 6, 2, 2, 2, 2, 12, 4, 4]\n",
        "[2, 4, 2, 2, 5, 2, 12, 16, 2, 2, 2, 2, 2, 2, 2, 2, 2, 4, 4, 2, 2, 2, 2, 2, 2, 2, 4, 6, 2, 4, 2, 2, 2, 2, 13, 2, 2, 8, 2, 2, 2, 2, 2, 2, 2, 4, 2, 2, 2, 4, 2, 2, 8, 2, 2, 2, 8, 2, 2, 5, 4, 24, 2, 2, 4, 2, 6, 2, 2, 2, 2, 4, 2, 2, 2, 2, 2, 2, 4, 4, 5, 2, 2, 2, 2, 2, 22, 2, 14, 2, 4, 22, 2, 2, 2, 2, 2, 2, 2, 4, 2, 7, 2, 2, 2, 2, 2, 2, 2, 7, 4, 5, 2, 18, 4, 6, 6, 2, 2, 2, 2, 2, 2, 2, 4, 2, 2, 4, 2, 2, 2, 6, 2, 2, 2, 4, 2, 2, 2, 10, 10, 4, 6, 2, 14, 2, 2, 2, 2, 2, 2, 2, 2, 2, 4, 2, 2, 2, 2, 2, 2, 2, 2, 2, 2, 2, 4, 2, 2, 2, 2, 2, 2, 2, 12, 2, 2, 6, 2, 2, 2, 2, 12, 4, 4]\n"
       ]
      }
     ],
     "prompt_number": 76
    }
   ],
   "metadata": {}
  }
 ]
}