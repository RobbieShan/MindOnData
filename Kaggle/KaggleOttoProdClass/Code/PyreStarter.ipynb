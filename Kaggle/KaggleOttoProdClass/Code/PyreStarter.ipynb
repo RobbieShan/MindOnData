{
 "metadata": {
  "name": "",
  "signature": "sha256:b4e4e022e103d57080778ad14d79c139870226f1a8957c25e83baba26507a955"
 },
 "nbformat": 3,
 "nbformat_minor": 0,
 "worksheets": [
  {
   "cells": [
    {
     "cell_type": "heading",
     "level": 3,
     "metadata": {},
     "source": [
      "Import the csv module that contains a csv reader function."
     ]
    },
    {
     "cell_type": "code",
     "collapsed": true,
     "input": [
      "import csv"
     ],
     "language": "python",
     "metadata": {
      "slideshow": {
       "slide_type": "slide"
      }
     },
     "outputs": [],
     "prompt_number": 92
    },
    {
     "cell_type": "code",
     "collapsed": false,
     "input": [
      "csvobj = csv.reader(open('C:/Users/Ravi/Python/Data/train.csv'))"
     ],
     "language": "python",
     "metadata": {},
     "outputs": [],
     "prompt_number": 93
    },
    {
     "cell_type": "heading",
     "level": 3,
     "metadata": {},
     "source": [
      "Initialize an empty list called train that will hold the training data"
     ]
    },
    {
     "cell_type": "code",
     "collapsed": false,
     "input": [
      "train = []"
     ],
     "language": "python",
     "metadata": {},
     "outputs": [],
     "prompt_number": 94
    },
    {
     "cell_type": "heading",
     "level": 3,
     "metadata": {},
     "source": [
      "A simple for loop that iterates through each row of the csv using the csv reader object created above and appends that row to the empty list"
     ]
    },
    {
     "cell_type": "code",
     "collapsed": false,
     "input": [
      "for row in csvobj:\n",
      "    train.append(row)"
     ],
     "language": "python",
     "metadata": {},
     "outputs": [],
     "prompt_number": 95
    },
    {
     "cell_type": "heading",
     "level": 3,
     "metadata": {},
     "source": [
      "Importing numpy to convert the train list to a numpy array"
     ]
    },
    {
     "cell_type": "code",
     "collapsed": false,
     "input": [
      "import numpy as np"
     ],
     "language": "python",
     "metadata": {},
     "outputs": [],
     "prompt_number": 96
    },
    {
     "cell_type": "code",
     "collapsed": false,
     "input": [
      "train = np.array(train)"
     ],
     "language": "python",
     "metadata": {},
     "outputs": [],
     "prompt_number": 97
    },
    {
     "cell_type": "code",
     "collapsed": false,
     "input": [
      "train[0:15,5]"
     ],
     "language": "python",
     "metadata": {},
     "outputs": [
      {
       "metadata": {},
       "output_type": "pyout",
       "prompt_number": 106,
       "text": [
        "array(['Age', '22', '38', '26', '35', '35', '', '54', '2', '27', '14', '4',\n",
        "       '58', '20', '39'], \n",
        "      dtype='<U82')"
       ]
      }
     ],
     "prompt_number": 106
    },
    {
     "cell_type": "markdown",
     "metadata": {},
     "source": [
      "This is Markdown"
     ]
    },
    {
     "cell_type": "code",
     "collapsed": false,
     "input": [
      "train[2]"
     ],
     "language": "python",
     "metadata": {},
     "outputs": [
      {
       "metadata": {},
       "output_type": "pyout",
       "prompt_number": 105,
       "text": [
        "array(['2', '1', '1',\n",
        "       'Cumings, Mrs. John Bradley (Florence Briggs Thayer)', 'female',\n",
        "       '38', '1', '0', 'PC 17599', '71.2833', 'C85', 'C'], \n",
        "      dtype='<U82')"
       ]
      }
     ],
     "prompt_number": 105
    }
   ],
   "metadata": {}
  }
 ]
}