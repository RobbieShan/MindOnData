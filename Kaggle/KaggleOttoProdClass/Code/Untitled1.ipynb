{
 "metadata": {
  "name": "",
  "signature": "sha256:fa958ff98a724500dd15c5dfbf775734a61a32f3d3a3b29e0a95642ba4b389e0"
 },
 "nbformat": 3,
 "nbformat_minor": 0,
 "worksheets": [
  {
   "cells": [
    {
     "cell_type": "code",
     "collapsed": false,
     "input": [],
     "language": "python",
     "metadata": {},
     "outputs": []
    }
   ],
   "metadata": {}
  }
 ]
}